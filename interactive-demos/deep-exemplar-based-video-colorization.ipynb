{
 "cells": [
  {
   "cell_type": "markdown",
   "metadata": {},
   "source": [
    "# Code/Environment Preparation\n",
    "\n",
    "Let's start by installing nnabla and other required packages first. If you're running on Colab, make sure that your Runtime setting is set as GPU. If not, that can be set up from the top menu (Runtime → change runtime type). Then click Connect on the top right-hand side of the screen before you start."
   ]
  },
  {
   "cell_type": "code",
   "execution_count": null,
   "metadata": {},
   "outputs": [],
   "source": [
    "!pip install nnabla-ext-cuda100"
   ]
  },
  {
   "cell_type": "markdown",
   "metadata": {},
   "source": [
    "Next, clone the code from sony/nnabla-examples repository, and then download the [pre-trained weights](https://nnabla.org/pretrained-models/nnabla-examples/deep-exemplar-based-video-colorization/devc_weights.zip\n",
    ")"
   ]
  },
  {
   "cell_type": "code",
   "execution_count": null,
   "metadata": {},
   "outputs": [],
   "source": [
    "!git clone https://github.com/sony/nnabla-examples.git\n",
    "%cd nnabla-examples/video-colorization/deep-exemplar-based-video-colorization/\n",
    "!wget https://nnabla.org/pretrained-models/nnabla-examples/deep-exemplar-based-video-colorization/devc_weights.zip\n",
    "!unzip devc_weights.zip"
   ]
  },
  {
   "cell_type": "markdown",
   "metadata": {},
   "source": [
    "# Testing\n",
    "\n",
    "Sample frames are available in the directory ./images/input  and the reference image is in directory ./images/ref"
   ]
  },
  {
   "cell_type": "code",
   "execution_count": null,
   "metadata": {},
   "outputs": [],
   "source": [
    "!python inference.py --input_path ./images/input/frames --ref_path ./images/ref/images/"
   ]
  },
  {
   "cell_type": "markdown",
   "metadata": {},
   "source": [
    "# View colorized video"
   ]
  },
  {
   "cell_type": "code",
   "execution_count": null,
   "metadata": {},
   "outputs": [],
   "source": [
    "#convert the *.avi file to *.mp4\n",
    "!ffmpeg -i ./images/output/out_ref1/video.avi output.mp4\n",
    "from IPython.display import HTML\n",
    "from base64 import b64encode\n",
    "mp4 = open('output.mp4','rb').read()\n",
    "data_url = \"data:video/mp4;base64,\" + b64encode(mp4).decode()\n",
    "HTML(f\"\"\"\n",
    "<video width=600 controls>\n",
    "      <source src={data_url} type=\"video/mp4\">\n",
    "</video>\n",
    "\"\"\")"
   ]
  }
 ],
 "metadata": {
  "kernelspec": {
   "display_name": "Python 3",
   "language": "python",
   "name": "python3"
  },
  "language_info": {
   "codemirror_mode": {
    "name": "ipython",
    "version": 3
   },
   "file_extension": ".py",
   "mimetype": "text/x-python",
   "name": "python",
   "nbconvert_exporter": "python",
   "pygments_lexer": "ipython3",
   "version": "3.7.3"
  }
 },
 "nbformat": 4,
 "nbformat_minor": 2
}
